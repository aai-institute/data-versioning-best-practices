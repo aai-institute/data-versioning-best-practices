{
 "cells": [
  {
   "cell_type": "markdown",
   "id": "c2db40a9",
   "metadata": {
    "cell_marker": "\"\"\""
   },
   "source": [
    "# Data Versioning Best Practices\n",
    "\n",
    "This notebook will guide you through the best practices for versioning data in a data science project.\n",
    "We assume you have lakeFS and lakeFS-spec set up. For guidance on setup and configuration, check the lakeFS-spec documentation.\n",
    "\n",
    "We will explain the following best practices for data versioning in this example:\n",
    "- [Set-up data repository](#set-up-a-data-repository)\n",
    "- [Follow a branching strategy that ensures data integrity on the `main` branch, e.g. by running tests on feature branch datasets.](#branching-strategy)\n",
    "- [Utilize reusable and tested functions for data transformation.](#utilize-reusable-and-tested-functions-for-data-transformation)\n",
    "- [Use commits to save checkpoints and merges for atomic changes.](#use-commits-as-checkpoints-and-merge-branches-for-atomic-changes)\n",
    "- [Keep naming (of branches and commits) consistent, concise, and unique. Use descriptive naming where it matters.](#descriptive-tags-for-human-readability-and-unique-SHAs-for-identification)\n",
    "\n",
    "For this demo project, we aim to build a weather predictor using data from a public API.\n",
    "This simulates a world scenario where we continuously collect more data, albeit with less complexity."
   ]
  },
  {
   "cell_type": "code",
   "execution_count": null,
   "id": "47b4eaab",
   "metadata": {},
   "outputs": [],
   "source": [
    "import json\n",
    "import os\n",
    "import tempfile\n",
    "import urllib.request\n",
    "from pathlib import Path\n",
    "\n",
    "import lakefs\n",
    "import pandas as pd\n",
    "import sklearn\n",
    "import sklearn.model_selection\n",
    "\n",
    "import lakefs_spec"
   ]
  },
  {
   "cell_type": "markdown",
   "id": "9326f547",
   "metadata": {
    "cell_marker": "\"\"\""
   },
   "source": [
    "The cell below contains a helper function to obtain the data and code to obtain the default lakeFS credentials. It is otherwise not relevant to this demonstration."
   ]
  },
  {
   "cell_type": "code",
   "execution_count": null,
   "id": "b8fed47b",
   "metadata": {
    "lines_to_next_cell": 0
   },
   "outputs": [],
   "source": [
    "def _maybe_urlretrieve(url: str, filename: str) -> str:\n",
    "    # Avoid API rate limit errors by downloading to a fixed local location\n",
    "    destination = Path(tempfile.gettempdir()) / \\\n",
    "        \"lakefs-spec-tutorials\" / filename\n",
    "    destination.parent.mkdir(exist_ok=True, parents=True)\n",
    "    if destination.exists():\n",
    "        return str(destination)\n",
    "\n",
    "    outfile, _ = urllib.request.urlretrieve(url, str(destination))\n",
    "    return outfile\n",
    "\n",
    "\n",
    "outfile = _maybe_urlretrieve(\n",
    "    \"https://archive-api.open-meteo.com/v1/archive?latitude=52.52&longitude=13.41&start_date=2010-01-01&end_date=2010-12-31&hourly=temperature_2m,relativehumidity_2m,rain,pressure_msl,surface_pressure,cloudcover,cloudcover_low,cloudcover_mid,cloudcover_high,windspeed_10m,windspeed_100m,winddirection_10m,winddirection_100m\",\n",
    "    \"weather-2010.json\",\n",
    ")\n",
    "urllib.request.urlretrieve(\n",
    "    \"https://raw.githubusercontent.com/aai-institute/lakefs-spec/main/docs/tutorials/.lakectl.yaml\",\n",
    "    os.path.expanduser(\"~/.lakectl.yaml\"),\n",
    ")"
   ]
  },
  {
   "cell_type": "markdown",
   "id": "6f5a9cd7",
   "metadata": {
    "cell_marker": "\"\"\""
   },
   "source": [
    "## Set up a data repository\n",
    "\n",
    "We got the data for the year 2010. That should be enough for initial prototyping.\n",
    "Later, however, we want to use more data. Since our dataset will be evolving, we implement data version control.\n",
    "This ensures the reproducibility of our experiments, enables collaboration with colleagues, and allows our dynamic dataset to stay a valuable asset over time.\n",
    "\n",
    "To set up versioning, we need to decide on a versioning tool (lakeFS in our case), set up a repository, and define which data is considered in scope and should be versioned and which is not.\n",
    "\n",
    "We will interface with the lakeFS server using lakeFS-spec, our filesystem implementation for lakeFS."
   ]
  },
  {
   "cell_type": "code",
   "execution_count": null,
   "id": "ec90192e",
   "metadata": {
    "lines_to_next_cell": 2
   },
   "outputs": [],
   "source": [
    "REPO_NAME = \"weatherpred\"\n",
    "\n",
    "fs = lakefs_spec.LakeFSFileSystem()\n",
    "repo = lakefs.Repository(REPO_NAME, fs.client).create(\n",
    "    storage_namespace=f\"local://{REPO_NAME}\")"
   ]
  },
  {
   "cell_type": "markdown",
   "id": "38f835e6",
   "metadata": {
    "cell_marker": "\"\"\""
   },
   "source": [
    "lakeFS works similarly to the Git versioning system and shares many of its core concepts.\n",
    "You can create *commits* that contain specific changes to the data.\n",
    "This commit captures an immutable state of the data at the time of the commit, rather than just saving a delta. This way, you do not have to reiterate over all previous commits to recoup the state of the repository at the commit. \n",
    "You can also work with *branches* to create an isolated view of the data.\n",
    "Every commit (on any branch) is identified by a unique commit ID, a unique identifier obtained via a hashing function, also called SHA.\n",
    "\n",
    "## Branching Strategy\n",
    "\n",
    "We recommend following a branching strategy that ensures the data integrity on the main branch.\n",
    "Since we are about to do some data wrangling, we will branch off the default branch `main` and later merge back into it, once we are sure everything works as expected."
   ]
  },
  {
   "cell_type": "code",
   "execution_count": null,
   "id": "c74e97b6",
   "metadata": {},
   "outputs": [],
   "source": [
    "BRANCH = \"transform-raw-data\"\n",
    "\n",
    "with fs.transaction as tx:\n",
    "    fs.put(outfile, f\"{REPO_NAME}/{BRANCH}/weather-2010.json\")\n",
    "    tx.commit(repository=REPO_NAME, branch=BRANCH,\n",
    "              message=\"Add 2010 weather data\")"
   ]
  },
  {
   "cell_type": "markdown",
   "id": "f9101974",
   "metadata": {
    "cell_marker": "\"\"\""
   },
   "source": [
    "## Utilize reusable and tested functions for data transformation\n",
    "\n",
    "Now that we have the data on the `transform-raw-data` branch, we can start with the transformation.\n",
    "\n",
    "It is good practice to encapsulate common transformations in (composable) functions. We use type"
   ]
  },
  {
   "cell_type": "code",
   "execution_count": null,
   "id": "c75a3279",
   "metadata": {},
   "outputs": [],
   "source": [
    "def load_json_data(filepath: str | Path) -> dict:\n",
    "    \"\"\"Load JSON data from a file or file-like object.\"\"\"\n",
    "    if isinstance(filepath, Path):\n",
    "        filepath = str(filepath)\n",
    "    with open(filepath, \"r\") as f:\n",
    "        return json.load(f)\n",
    "\n",
    "\n",
    "def create_dataframe_from_json(json_data: dict) -> pd.DataFrame:\n",
    "    \"\"\"Create a Pandas DataFrame from a JSON object's \"hourly\" key.\"\"\"\n",
    "    df = pd.DataFrame.from_dict(json_data[\"hourly\"])\n",
    "    return df\n",
    "\n",
    "\n",
    "def convert_time_column_to_datetime(df: pd.DataFrame) -> pd.DataFrame:\n",
    "    \"\"\"Ensure datetime format of DataFrame 'time' column.\"\"\"\n",
    "    df[\"time\"] = pd.to_datetime(df[\"time\"])\n",
    "    return df\n",
    "\n",
    "\n",
    "def add_rain_indicators(df: pd.DataFrame) -> pd.DataFrame:\n",
    "    \"Add dummy indicator variables for current and 24-hour future rain to each row based on timestamp and `rain` column. Remove columns with not missing values (i.e. end of DataFrame).\"\n",
    "    df[\"is_raining\"] = df.rain > 0\n",
    "    df[\"is_raining_in_1_day\"] = df.is_raining.shift(24).astype(bool)\n",
    "    return df.dropna()"
   ]
  },
  {
   "cell_type": "markdown",
   "id": "fec33b6d",
   "metadata": {
    "cell_marker": "\"\"\""
   },
   "source": [
    "We also add unit tests for our data transformation functions. This ensures the accuracy and reliability of data processing.\n",
    "We catch errors early make our code maintainable and scalable code as we ensure that changes or additions to the code don't break existing functionalities."
   ]
  },
  {
   "cell_type": "code",
   "execution_count": null,
   "id": "8739e18d",
   "metadata": {},
   "outputs": [],
   "source": [
    "sample_json_data = {\n",
    "    \"hourly\": [{\"time\": \"2023-01-01 00:00\", \"rain\": 0}, {\"time\": \"2023-01-01 01:00\", \"rain\": 2}]\n",
    "}\n",
    "\n",
    "df_test = create_dataframe_from_json(sample_json_data)\n",
    "assert isinstance(df_test, pd.DataFrame), \"Output should be a pandas DataFrame\"\n",
    "assert list(df_test.columns) == [\n",
    "    \"time\", \"rain\"], \"DataFrame should have time and rain columns\"\n",
    "assert len(df_test) == 2, \"DataFrame should have two rows\"\n",
    "\n",
    "\n",
    "df_test = pd.DataFrame(\n",
    "    {\"time\": [\"2023-01-01 00:00\", \"2023-01-01 01:00\"], \"rain\": [0, 2]})\n",
    "\n",
    "df_test = convert_time_column_to_datetime(df_test)\n",
    "assert pd.api.types.is_datetime64_any_dtype(\n",
    "    df_test[\"time\"]), \"Time column should be of datetime type\"\n",
    "\n",
    "\n",
    "df_test = pd.DataFrame(\n",
    "    {\"time\": pd.date_range(start=\"2023-01-01\", periods=48,\n",
    "                           freq=\"H\"), \"rain\": [0] * 24 + [2] * 24}\n",
    ")\n",
    "\n",
    "df_test = add_rain_indicators(df_test)\n",
    "assert (\"is_raining\" in df_test.columns and \"is_raining_in_1_day\" in df_test.columns), \"Both indicator columns should be present\"\n",
    "assert all(df_test.loc[24:, \"is_raining\"]\n",
    "           ), \"All values should be True in 'is_raining' for the second day\"\n",
    "assert all(df_test.loc[:23, \"is_raining_in_1_day\"]\n",
    "           ), \"All values should be True in 'is_raining_in_1_day' for the first day\"\n",
    "assert not df_test.isna().any(\n",
    "    axis=None), \"There should be no NaN values in the DataFrame\""
   ]
  },
  {
   "cell_type": "markdown",
   "id": "cad8c0f3",
   "metadata": {
    "cell_marker": "\"\"\""
   },
   "source": [
    "Encapsulating data processing steps in unit tested functions (which are also made available to the whole team or organisation) saves some work by reusing our code.\n",
    "Additionally, the tests increase our confidence in the data quality and serve as additional context to infer the purpose of the function should we or someone else come back at a later time.\n",
    "Typehints, docstrings, and unit tests serve as documentation and help our peers (and ourself revisiting in six months time) to easily understand the code.\n",
    "\n",
    "We can now apply the functions to process the data."
   ]
  },
  {
   "cell_type": "code",
   "execution_count": null,
   "id": "b127c03e",
   "metadata": {},
   "outputs": [],
   "source": [
    "json_data = load_json_data(outfile)\n",
    "df = create_dataframe_from_json(json_data)\n",
    "df = convert_time_column_to_datetime(df)\n",
    "df = add_rain_indicators(df)\n",
    "\n",
    "df.head(5)"
   ]
  },
  {
   "cell_type": "markdown",
   "id": "1080329c",
   "metadata": {
    "cell_marker": "\"\"\"",
    "lines_to_next_cell": 0
   },
   "source": [
    "## Use commits as checkpoints and merge branches for atomic changes\n",
    "\n",
    "Now we can commit the updated data to the `transform-raw-data` branch in the lakeFS repository.\n",
    "We write a descriptive commit message."
   ]
  },
  {
   "cell_type": "code",
   "execution_count": null,
   "id": "b8acd0df",
   "metadata": {},
   "outputs": [],
   "source": [
    "with fs.transaction as tx:\n",
    "    df.to_csv(f\"lakefs://{REPO_NAME}/{BRANCH}/weather_2010.csv\")\n",
    "    commit = tx.commit(repository=REPO_NAME, branch=BRANCH,\n",
    "                       message=\"Preprocess 2010 data\")\n",
    "print(commit)"
   ]
  },
  {
   "cell_type": "markdown",
   "id": "49724392",
   "metadata": {
    "cell_marker": "\"\"\""
   },
   "source": [
    "We see that the commit has a unique id, the commit SHA, which we can log to identify this particular state of the data.\n",
    "\n",
    "We are done with our processing steps. However, before we merge the branch back into `main`, we should follow a review process.\n",
    "How this review process looks heavily depends on the project domain and maturity as well as the nature of the data itself.\n",
    "It can also consist of manual and/or automated checks. Manual checks are much like code reviews.\n",
    "Automated checks are more complicated to set up and there are few one size fits all solutions.\n",
    "For example, checking for distribution drift does not make sense if you add data from a previously underrepresented class.\n",
    "\n",
    "We still want to present some keywords and links that serve as a starting point for you:\n",
    "\n",
    "- [Data Quality Testing blogpost by lakeFS](https://lakefs.io/data-quality/data-quality-testing/)\n",
    "- [ArXiv paper on distribution drift measurement](https://arxiv.org/abs/1908.04240)\n",
    "- [Dynamic vs. static data testing by Anomalo](https://www.anomalo.com/post/dynamic-data-testing?gi=fb4db0e2ecb4)\n",
    "\n",
    "\n",
    "Nonetheless, there are probably some basic, heuristic data quality checks, like ensuring no NaNs, that are easy to implement and likely catch big processing erros."
   ]
  },
  {
   "cell_type": "code",
   "execution_count": null,
   "id": "9d5fd94b",
   "metadata": {},
   "outputs": [],
   "source": [
    "assert not df.isna().any(axis=None), \"There should be no NaN values in the DataFrame\"\n",
    "assert ((df[['is_raining', 'is_raining_in_1_day']].isin([0, 1])).all(\n",
    "    axis=None)), \"Values in 'is_raining' and 'is_raining_in_1_day' should be only 0 or 1\""
   ]
  },
  {
   "cell_type": "markdown",
   "id": "1e513427",
   "metadata": {
    "cell_marker": "\"\"\"",
    "lines_to_next_cell": 0
   },
   "source": [
    "As our data looks good, we can go ahead and merge it."
   ]
  },
  {
   "cell_type": "code",
   "execution_count": null,
   "id": "042797d0",
   "metadata": {},
   "outputs": [],
   "source": [
    "with fs.transaction as tx:\n",
    "    tx.merge(repository=REPO_NAME, source_ref=BRANCH, into=\"main\")"
   ]
  },
  {
   "cell_type": "markdown",
   "id": "e5468ead",
   "metadata": {
    "cell_marker": "\"\"\""
   },
   "source": [
    "We will now start to develop our ML model. We recommend creating a new branch for each experiment for proper separation.\n",
    "There, we will conduct the train test split and further experiment specific modifications, if applicable."
   ]
  },
  {
   "cell_type": "code",
   "execution_count": null,
   "id": "9e1b3e64",
   "metadata": {},
   "outputs": [],
   "source": [
    "EXPERIMENT_BRANCH = \"experiment-1\"\n",
    "with fs.transaction as tx:\n",
    "    tx.create_branch(repository=REPO_NAME,\n",
    "                     name=EXPERIMENT_BRANCH, source=\"main\")\n",
    "\n",
    "df = pd.read_csv(f\"lakefs://{REPO_NAME}/{EXPERIMENT_BRANCH}/weather_2010.csv\")\n",
    "model_data = df.drop(\"time\", axis=1)\n",
    "train, test = sklearn.model_selection.train_test_split(\n",
    "    model_data, random_state=7)"
   ]
  },
  {
   "cell_type": "markdown",
   "id": "cbe292b6",
   "metadata": {
    "cell_marker": "\"\"\""
   },
   "source": [
    "## Descriptive tags for human readability and unique SHAs for identification\n",
    "\n",
    "Since the train/test split data set we just committed to the experiment branch is something we expect to address quite often in development, we will also add a human-readable tag to this commit.\n",
    "In the code below we directly pass the commit as the reference. If we pass a branch, the tag will point to the current HEAD (i.e., the latest) commit on the branch.\n",
    "This makes it easy to refer back to it and to communicate this specific state of the data to colleagues. Tags are immutable which ensures consistency.\n",
    "You and your colleagues can then also work with the same state (i.e., train/test split, etc.) of the data by referring to the tag by name."
   ]
  },
  {
   "cell_type": "code",
   "execution_count": null,
   "id": "6d03e701",
   "metadata": {},
   "outputs": [],
   "source": [
    "TAG_NAME = \"exp1_2010_data\"\n",
    "with fs.transaction as tx:\n",
    "    train.to_csv(f\"lakefs://{REPO_NAME}/{EXPERIMENT_BRANCH}/train_weather.csv\")\n",
    "    test.to_csv(f\"lakefs://{REPO_NAME}/{EXPERIMENT_BRANCH}/test_weather.csv\")\n",
    "    commit = tx.commit(\n",
    "        repository=REPO_NAME,\n",
    "        branch=EXPERIMENT_BRANCH,\n",
    "        message=\"Perform train-test split of 2010 weather data\",\n",
    "    )\n",
    "    tx.tag(repository=REPO_NAME, ref=commit, tag=TAG_NAME)"
   ]
  },
  {
   "cell_type": "markdown",
   "id": "a1f154ec",
   "metadata": {
    "cell_marker": "\"\"\""
   },
   "source": [
    "Now we have the data on different branches. If new data comes in, we can perform necessary preprocessing on a separate branch and merge it to `main` once we are sure about its compatibility and have run all necessary tests.\n",
    "\n",
    "Should the new data be important for the experimentation as well, then we can merge the updated `main` branch into the experimentation branch.\n",
    "If we expect this version to be referred to by humans often, we can create a new tag for the dataset.\n",
    "\n",
    "It is important to note that tags cannot be directly reassigned. This is to ensure reproducibility of previously written code.\n",
    "\n",
    "If you want to reuse tags anyways, for example if you have too many stale tags assigned, you have to delete the tag and create a new one.\n",
    "However, be aware as this might break reproducibility in other places (i.e., colleagues might expect unchanged data).\n",
    "To ensure failsafe versioning, use commit IDs instead of tags or branch names in logs or experiment tracking tools."
   ]
  }
 ],
 "metadata": {
  "jupytext": {
   "cell_markers": "\"\"\"",
   "cell_metadata_filter": "-all"
  },
  "kernelspec": {
   "display_name": "Python 3 (ipykernel)",
   "language": "python",
   "name": "python3"
  }
 },
 "nbformat": 4,
 "nbformat_minor": 5
}
